{
 "cells": [
  {
   "cell_type": "code",
   "execution_count": 2,
   "metadata": {},
   "outputs": [
    {
     "name": "stderr",
     "output_type": "stream",
     "text": [
      "/home/martina/anaconda3/lib/python3.8/site-packages/pandas/core/computation/expressions.py:20: UserWarning: Pandas requires version '2.7.3' or newer of 'numexpr' (version '2.7.1' currently installed).\n",
      "  from pandas.core.computation.check import NUMEXPR_INSTALLED\n"
     ]
    }
   ],
   "source": [
    "import sys\n",
    "sys.path.append('../')\n",
    "import importlib\n",
    "\n",
    "import numpy as np\n",
    "import torch\n",
    "\n",
    "import matplotlib.pyplot as plt\n",
    "import matplotlib \n",
    "import pandas as pd\n",
    "import seaborn as sbn\n",
    "from contextlib import redirect_stdout\n",
    "import json\n",
    "import ast\n",
    "\n",
    "import DataGeneration as dgen\n",
    "import Classifier as clf\n",
    "import TuningCurves as tun"
   ]
  },
  {
   "cell_type": "raw",
   "metadata": {},
   "source": [
    "importlib.reload(dgen)\n",
    "\n",
    "trials = 100\n",
    "\n",
    "dgen.small_dataset_gen(trials)"
   ]
  },
  {
   "cell_type": "raw",
   "metadata": {},
   "source": [
    "importlib.reload(dgen)\n",
    "\n",
    "trials = 1000\n",
    "\n",
    "dgen.big_dataset_gen(trials)"
   ]
  },
  {
   "cell_type": "raw",
   "metadata": {},
   "source": [
    "importlib.reload(dgen)\n",
    "\n",
    "trials = 100\n",
    "\n",
    "dgen.special_dataset_gen(trials)"
   ]
  },
  {
   "cell_type": "code",
   "execution_count": 17,
   "metadata": {},
   "outputs": [],
   "source": [
    "#size = \"big\"\n",
    "size = \"small\"\n",
    "#size = \"special\"\n",
    "\n",
    "with open(size+'_dataset.json', 'r') as json_file:\n",
    "    data = json.load(json_file)\n",
    "\n",
    "frates_actor = np.array(data[\"frates_actor\"])\n",
    "frates_critic = np.array(data[\"frates_critic\"])\n",
    "final_actions = np.array(data[\"final_actions\"])\n",
    "right_values = np.array(data[\"right_values\"])\n",
    "left_values = np.array(data[\"left_values\"])\n",
    "overall_values = np.array(data[\"overall_values\"])\n",
    "global_values = np.array(data[\"global_values\"])\n",
    "stimuli = np.array(data[\"stimuli\"])\n",
    "timeav_values = np.array(data[\"timeav_values\"])"
   ]
  },
  {
   "cell_type": "code",
   "execution_count": 15,
   "metadata": {},
   "outputs": [],
   "source": [
    "#net = {\"X\" : frates_actor, \"network\" : \"ACTOR\"}\n",
    "net = {\"X\" : frates_critic, \"network\" : \"CRITIC\"}\n",
    "\n",
    "#label = {\"Y\" : final_actions, \"label\" : \"ACTIONS\"}\n",
    "#label = {\"Y\" : right_values, \"label\" : \"RIGHT VALUES\"}\n",
    "#label = {\"Y\" : left_values, \"label\" : \"LEFT VALUES\"}\n",
    "label = {\"Y\" : global_values, \"label\" : \"GLOBAL VALUES\"}\n",
    "\n",
    "#model = {\"model\" : 'perceptron', \"param\" : 0}\n",
    "model = {\"model\" : 'perceptronL1', \"param\" : 0.01}\n",
    "#model = {\"model\" : 'svm', \"param\" : 0.00001}"
   ]
  },
  {
   "cell_type": "code",
   "execution_count": null,
   "metadata": {},
   "outputs": [],
   "source": []
  },
  {
   "cell_type": "code",
   "execution_count": null,
   "metadata": {},
   "outputs": [],
   "source": []
  },
  {
   "cell_type": "code",
   "execution_count": null,
   "metadata": {},
   "outputs": [],
   "source": []
  },
  {
   "cell_type": "raw",
   "metadata": {},
   "source": [
    "importlib.reload(clf)\n",
    "\n",
    "noise_mag = np.array([0, 1/2, 1, 3/2, 2, 5/2, 3, 7/2, 4, 9/2])\n",
    "\n",
    "clf.noise_effect(X=net[\"X\"], Y=label[\"Y\"], model=model[\"model\"], param_mag=0,\\\n",
    "               network=net[\"network\"], label=label[\"label\"], noise_mag=noise_mag, size=size)"
   ]
  },
  {
   "cell_type": "raw",
   "metadata": {},
   "source": [
    "importlib.reload(clf)\n",
    "\n",
    "noise_mag = np.array([0])\n",
    "#param_mag = np.array([1e-10])\n",
    "param_mag = np.array([3, 1, 3e-1, 1e-1, 3e-2, 1e-2, 3e-3, 1e-3, 3e-4, 1e-4, 3e-5, 1e-5, 3e-6, 1e-6])#14\n",
    "#param_mag = np.array([1e-4, 5e-5, 1e-5, 5e-6, 1e-6])\n",
    "\n",
    "clf.regularization_intensity(X=net[\"X\"], Y=label[\"Y\"], model=model[\"model\"], param_mag=param_mag,\\\n",
    "                             network=net[\"network\"], label=label[\"label\"], noise_mag=noise_mag, size=size)"
   ]
  },
  {
   "cell_type": "raw",
   "metadata": {},
   "source": [
    "importlib.reload(clf)\n",
    "\n",
    "param_mag = np.array([1e-2, 1e-2])\n",
    "\n",
    "clf.actor_vs_critic(frates_actor, frates_critic, Y=label[\"Y\"], model=model[\"model\"],\n",
    "                    param_mag=param_mag, label=label[\"label\"], noise_mag=0, size=size)"
   ]
  },
  {
   "cell_type": "raw",
   "metadata": {},
   "source": [
    "importlib.reload(clf)\n",
    "\n",
    "clf.rel_neurons(X=net[\"X\"], Y=label[\"Y\"], model=model[\"model\"], C=3e-3,\\\n",
    "               network=net[\"network\"], label=label[\"label\"], noise_mag=0, size=size)\n",
    "\n",
    "if net[\"network\"] == \"actor\":\n",
    "    with open(\"clf_data_\"+size+\"/\"+label[\"label\"]+\"/relevant_neurons_actor.json\", 'r') as json_file:\n",
    "        file_content = json.load(json_file)\n",
    "else:\n",
    "    with open(\"clf_data_\"+size+\"/\"+label[\"label\"]+\"/relevant_neurons_critic.json\", 'r') as json_file:\n",
    "        file_content = json.load(json_file)\n",
    "        \n",
    "relevant_neurons = np.array(file_content[\"relevant_neurons\"])\n",
    "relevant_weights = np.array(file_content[\"relevant_weights\"])\n",
    "\n",
    "random_neurons = np.array(file_content[\"random_neurons\"])\n",
    "random_weights = np.array(file_content[\"random_weights\"])\n",
    "print(relevant_neurons)\n",
    "print(relevant_weights)\n",
    "#print(random_neurons)\n",
    "#print(random_weights)"
   ]
  },
  {
   "cell_type": "code",
   "execution_count": null,
   "metadata": {},
   "outputs": [],
   "source": []
  },
  {
   "cell_type": "code",
   "execution_count": null,
   "metadata": {},
   "outputs": [],
   "source": []
  },
  {
   "cell_type": "code",
   "execution_count": null,
   "metadata": {},
   "outputs": [],
   "source": []
  },
  {
   "cell_type": "raw",
   "metadata": {},
   "source": [
    "importlib.reload(tun)\n",
    "\n",
    "#relevant_neurons = np.arange(0,128)\n",
    "#relevant_weights = np.ones(128)\n",
    "\n",
    "tun.tuning_curves(relevant_neurons, relevant_weights, net[\"X\"], stimuli, net[\"network\"], label[\"label\"])"
   ]
  },
  {
   "cell_type": "raw",
   "metadata": {},
   "source": [
    "importlib.reload(tun)\n",
    "\n",
    "relevant_neurons = np.arange(0,128)\n",
    "relevant_weights = np.ones(128)\n",
    "\n",
    "tun.new_tuning_curves(relevant_neurons, relevant_weights, net[\"X\"], stimuli, net[\"network\"], label[\"label\"])"
   ]
  },
  {
   "cell_type": "raw",
   "metadata": {},
   "source": [
    "importlib.reload(tun)\n",
    "\n",
    "tun.tuning_curves(random_neurons, random_weights, net[\"X\"], stimuli, net[\"network\"], label[\"label\"]+\"_random\")"
   ]
  },
  {
   "cell_type": "raw",
   "metadata": {},
   "source": [
    "importlib.reload(tun)\n",
    "\n",
    "tun.critic_tuning_curves(timeav_values, overall_values)"
   ]
  },
  {
   "cell_type": "code",
   "execution_count": null,
   "metadata": {},
   "outputs": [],
   "source": []
  },
  {
   "cell_type": "code",
   "execution_count": null,
   "metadata": {},
   "outputs": [],
   "source": []
  },
  {
   "cell_type": "code",
   "execution_count": null,
   "metadata": {},
   "outputs": [],
   "source": []
  },
  {
   "cell_type": "code",
   "execution_count": null,
   "metadata": {},
   "outputs": [],
   "source": []
  },
  {
   "cell_type": "code",
   "execution_count": 22,
   "metadata": {},
   "outputs": [],
   "source": [
    "importlib.reload(tun)\n",
    "\n",
    "tun.neurons_population(net[\"X\"], label[\"Y\"], net[\"network\"], label[\"label\"])"
   ]
  },
  {
   "cell_type": "code",
   "execution_count": 4,
   "metadata": {},
   "outputs": [],
   "source": [
    "import json\n",
    "import numpy as np\n",
    "with open('neurons_population.json', 'r') as json_file:\n",
    "    data = json.load(json_file)\n",
    "\n",
    "averages = np.array(data[\"averages\"])\n",
    "stds = np.array(data[\"stds\"])\n",
    "dcs = np.array(data[\"dcs\"])"
   ]
  },
  {
   "cell_type": "code",
   "execution_count": 5,
   "metadata": {},
   "outputs": [
    {
     "data": {
      "text/plain": [
       "array([[1.00025660e+01, 1.80389292e+01],\n",
       "       [0.00000000e+00, 0.00000000e+00],\n",
       "       [3.61812560e+01, 5.35109477e+01],\n",
       "       [2.92673436e+01, 4.28335372e+01],\n",
       "       [0.00000000e+00, 0.00000000e+00],\n",
       "       [7.74284245e+01, 7.52068941e+01],\n",
       "       [0.00000000e+00, 0.00000000e+00],\n",
       "       [3.00222104e+01, 4.33465891e+01],\n",
       "       [0.00000000e+00, 0.00000000e+00],\n",
       "       [2.63625610e+00, 4.61509736e-01],\n",
       "       [2.01448057e+01, 1.63868709e+01],\n",
       "       [0.00000000e+00, 0.00000000e+00],\n",
       "       [4.72489235e+01, 5.54343454e+01],\n",
       "       [2.47120666e+01, 2.27700538e+01],\n",
       "       [0.00000000e+00, 0.00000000e+00],\n",
       "       [5.56016451e+01, 5.98921176e+01],\n",
       "       [6.38078622e+01, 6.60652304e+01],\n",
       "       [0.00000000e+00, 0.00000000e+00],\n",
       "       [5.19507386e+00, 1.11012083e+01],\n",
       "       [2.94009119e+00, 7.63017178e+00],\n",
       "       [0.00000000e+00, 0.00000000e+00],\n",
       "       [5.14308354e+01, 5.32159864e+01],\n",
       "       [5.13286837e+01, 5.50978559e+01],\n",
       "       [1.67205675e-01, 1.09276095e-01],\n",
       "       [4.76967238e+01, 3.61432163e+01],\n",
       "       [0.00000000e+00, 0.00000000e+00],\n",
       "       [3.56402859e+01, 2.16654445e+01],\n",
       "       [0.00000000e+00, 0.00000000e+00],\n",
       "       [5.20878571e+01, 5.28166508e+01],\n",
       "       [0.00000000e+00, 0.00000000e+00],\n",
       "       [7.84813578e+01, 9.95594966e+01],\n",
       "       [0.00000000e+00, 0.00000000e+00],\n",
       "       [5.93038856e+01, 7.30416988e+01],\n",
       "       [1.76686062e+00, 1.67871226e+00],\n",
       "       [6.45756942e+00, 1.23600400e+01],\n",
       "       [3.82568518e+01, 4.41513086e+01],\n",
       "       [1.49339425e+01, 1.06811454e+01],\n",
       "       [4.61560758e+01, 4.93970780e+01],\n",
       "       [5.87350862e+01, 5.98089061e+01],\n",
       "       [2.80660377e+01, 2.15892565e+01],\n",
       "       [0.00000000e+00, 0.00000000e+00],\n",
       "       [3.08483228e+01, 2.41311832e+01],\n",
       "       [1.40253877e-02, 1.54067366e-02],\n",
       "       [0.00000000e+00, 0.00000000e+00],\n",
       "       [0.00000000e+00, 0.00000000e+00],\n",
       "       [6.90116615e+01, 6.40502022e+01],\n",
       "       [7.83114233e+01, 8.59920806e+01],\n",
       "       [2.23438598e+01, 4.96799319e+01],\n",
       "       [0.00000000e+00, 0.00000000e+00],\n",
       "       [0.00000000e+00, 0.00000000e+00],\n",
       "       [0.00000000e+00, 0.00000000e+00],\n",
       "       [2.03038805e+01, 2.72113796e+01],\n",
       "       [2.14169590e+00, 3.42765462e+00],\n",
       "       [7.38578961e-02, 3.72827049e-02],\n",
       "       [4.58825922e-01, 6.23140634e-01],\n",
       "       [4.92819547e+01, 6.42129053e+01],\n",
       "       [0.00000000e+00, 0.00000000e+00],\n",
       "       [6.90651247e+01, 7.46498330e+01],\n",
       "       [0.00000000e+00, 0.00000000e+00],\n",
       "       [3.36619619e+01, 3.15459427e+01],\n",
       "       [2.04173076e+01, 2.99896852e+01],\n",
       "       [4.50692083e-01, 2.61129723e+00],\n",
       "       [6.67385618e+01, 6.77820051e+01],\n",
       "       [0.00000000e+00, 0.00000000e+00],\n",
       "       [0.00000000e+00, 0.00000000e+00],\n",
       "       [9.62933212e-01, 3.78466750e-01],\n",
       "       [9.65031599e+00, 6.48470945e+00],\n",
       "       [2.04072461e+01, 2.45987283e+01],\n",
       "       [1.24377709e+01, 1.85781999e+00],\n",
       "       [6.85086695e+00, 1.26276686e+00],\n",
       "       [8.73817511e+00, 1.42386305e+01],\n",
       "       [6.76721844e+01, 6.41141192e+01],\n",
       "       [6.47346449e+01, 7.17977683e+01],\n",
       "       [2.84423530e+01, 3.49008289e+01],\n",
       "       [3.32809298e+01, 3.80694553e+01],\n",
       "       [1.44296593e+01, 2.04306368e+01],\n",
       "       [8.54392269e+01, 1.04307099e+02],\n",
       "       [0.00000000e+00, 0.00000000e+00],\n",
       "       [4.76037431e+01, 3.78411575e+01],\n",
       "       [1.49026401e+01, 2.43404194e+01],\n",
       "       [2.81596400e+01, 1.96669879e+01],\n",
       "       [5.41181381e+00, 7.38100090e+00],\n",
       "       [4.67889849e+01, 4.26925496e+01],\n",
       "       [5.38308978e-01, 4.58555190e-01],\n",
       "       [9.28709847e+01, 9.27630880e+01],\n",
       "       [2.49357194e+01, 3.11248175e+01],\n",
       "       [9.19763367e+01, 9.93102449e+01],\n",
       "       [5.66349804e-02, 8.98180798e-02],\n",
       "       [1.28349680e-01, 9.61739182e-02],\n",
       "       [1.26282313e+01, 6.54708550e+00],\n",
       "       [3.22205464e+01, 4.05691552e+01],\n",
       "       [9.16260944e+00, 1.97813088e+01],\n",
       "       [8.47115989e-01, 9.63540534e-03],\n",
       "       [1.36209069e+00, 9.46078647e-02],\n",
       "       [1.32225930e+01, 1.72757132e+01],\n",
       "       [2.27302693e+00, 2.59517584e+00],\n",
       "       [3.59709377e+01, 4.85656847e+01],\n",
       "       [2.22440266e+01, 3.44433824e+01],\n",
       "       [5.55562189e+01, 6.23966758e+01],\n",
       "       [8.58248712e+00, 1.49102991e+01],\n",
       "       [9.33768187e+01, 9.29784303e+01],\n",
       "       [5.78246019e+01, 7.01713547e+01],\n",
       "       [6.17902420e+01, 6.95418897e+01],\n",
       "       [9.37510851e+00, 1.42104901e+01],\n",
       "       [0.00000000e+00, 0.00000000e+00],\n",
       "       [1.37281386e+00, 3.07551588e+00],\n",
       "       [6.83984788e+01, 8.34495555e+01],\n",
       "       [1.83964478e+01, 2.50006118e+01],\n",
       "       [1.97666547e-06, 0.00000000e+00],\n",
       "       [0.00000000e+00, 0.00000000e+00],\n",
       "       [3.82508843e+01, 3.95930592e+01],\n",
       "       [1.71344457e+01, 9.13289157e+00],\n",
       "       [0.00000000e+00, 0.00000000e+00],\n",
       "       [1.77165982e+01, 1.87290802e+01],\n",
       "       [1.44415188e+00, 7.31549479e+00],\n",
       "       [0.00000000e+00, 0.00000000e+00],\n",
       "       [1.05363451e+01, 3.76841793e+00],\n",
       "       [4.32829539e+01, 4.12610179e+01],\n",
       "       [0.00000000e+00, 0.00000000e+00],\n",
       "       [8.23954616e+00, 9.96546858e+00],\n",
       "       [2.61055858e+01, 1.94852668e+01],\n",
       "       [8.59394268e-01, 1.73179932e+00],\n",
       "       [3.84771910e+01, 2.70420926e+01],\n",
       "       [1.20121891e+00, 1.61888342e+00],\n",
       "       [8.41006914e+01, 1.03016975e+02],\n",
       "       [1.23689757e+01, 8.26497556e+00],\n",
       "       [0.00000000e+00, 0.00000000e+00],\n",
       "       [0.00000000e+00, 0.00000000e+00]])"
      ]
     },
     "execution_count": 5,
     "metadata": {},
     "output_type": "execute_result"
    }
   ],
   "source": [
    "averages"
   ]
  },
  {
   "cell_type": "code",
   "execution_count": null,
   "metadata": {},
   "outputs": [],
   "source": []
  },
  {
   "cell_type": "code",
   "execution_count": null,
   "metadata": {},
   "outputs": [],
   "source": []
  }
 ],
 "metadata": {
  "kernelspec": {
   "display_name": "Python 3",
   "language": "python",
   "name": "python3"
  },
  "language_info": {
   "codemirror_mode": {
    "name": "ipython",
    "version": 3
   },
   "file_extension": ".py",
   "mimetype": "text/x-python",
   "name": "python",
   "nbconvert_exporter": "python",
   "pygments_lexer": "ipython3",
   "version": "3.8.3"
  }
 },
 "nbformat": 4,
 "nbformat_minor": 4
}
